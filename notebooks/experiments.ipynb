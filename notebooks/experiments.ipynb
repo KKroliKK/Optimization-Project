{
  "cells": [
    {
      "cell_type": "markdown",
      "metadata": {
        "id": "uqmXEIoCC1mz"
      },
      "source": [
        "# Imports"
      ]
    },
    {
      "cell_type": "code",
      "execution_count": 34,
      "metadata": {
        "id": "sPeA6j7gDlEE"
      },
      "outputs": [],
      "source": [
        "import math\n",
        "import multiprocessing\n",
        "import numpy as np\n",
        "\n",
        "from matplotlib import pyplot as plt\n",
        "from scipy.optimize import fmin_l_bfgs_b\n",
        "from tqdm import tqdm"
      ]
    },
    {
      "cell_type": "markdown",
      "metadata": {
        "id": "cpktRLDaC1m2"
      },
      "source": [
        "# Data Loading"
      ]
    },
    {
      "cell_type": "code",
      "execution_count": 35,
      "metadata": {
        "id": "K-VmdAM6pXCw"
      },
      "outputs": [],
      "source": [
        "def read_data(data_path, n_samples_to_load=None):\n",
        "    \"\"\"\n",
        "    Reads the RCV1 dataset into lists.\n",
        "    Returns the lists with samples, labels, and number of samples read.\n",
        "    \"\"\"\n",
        "    with open(data_path, 'r') as data:\n",
        "        lines = data.readlines()\n",
        "        if n_samples_to_load is not None:\n",
        "            lines = lines[:n_samples_to_load]\n",
        "        n_samples = len(lines)\n",
        "        Z, Y = [], []\n",
        "        for line in lines:\n",
        "            line = line.split()\n",
        "\n",
        "            y = int(line[0])\n",
        "            Y.append(y)\n",
        "\n",
        "            z = np.zeros(N_FEATURES)\n",
        "            for feature in line[1:]:\n",
        "                feature_idx, feature_value = feature.split(':')\n",
        "                z[int(feature_idx) - 1] = float(feature_value)\n",
        "            Z.append(z)\n",
        "\n",
        "    return Z, Y, n_samples"
      ]
    },
    {
      "cell_type": "code",
      "execution_count": 36,
      "metadata": {
        "id": "P1X5Y3NpC1m3"
      },
      "outputs": [],
      "source": [
        "data_path = '/content/rcv1_train.binary'\n",
        "\n",
        "N_FEATURES = 47236\n",
        "n_samples_to_load = 3000 # number of samples to load (due to RAM limitation)\n",
        "\n",
        "Z, Y, N_SAMPLES = read_data(data_path, n_samples_to_load)"
      ]
    },
    {
      "cell_type": "code",
      "execution_count": 37,
      "metadata": {
        "id": "jpf8zJ93YD3c"
      },
      "outputs": [],
      "source": [
        "N_DEVICES = 7\n",
        "N_SAMPLES_SERVER = int(N_SAMPLES / 10)\n",
        "N_ITERS = 20"
      ]
    },
    {
      "cell_type": "code",
      "execution_count": 38,
      "metadata": {
        "colab": {
          "base_uri": "https://localhost:8080/"
        },
        "id": "YKFKiQqNC1m3",
        "outputId": "270ad302-dacb-496b-bf15-13afb1b79a2e"
      },
      "outputs": [
        {
          "data": {
            "text/plain": [
              "(3000, 300, True)"
            ]
          },
          "execution_count": 38,
          "metadata": {},
          "output_type": "execute_result"
        }
      ],
      "source": [
        "N_SAMPLES, N_SAMPLES_SERVER, len(Z[0]) == N_FEATURES"
      ]
    },
    {
      "cell_type": "markdown",
      "metadata": {
        "id": "pvGNLi-sXtmo"
      },
      "source": [
        "# Data Distribution\n",
        "\n",
        "Let us distribute the data (specifically, the indices of the samples) among `N_DEVICES` devices."
      ]
    },
    {
      "cell_type": "code",
      "execution_count": 39,
      "metadata": {
        "id": "_xw4wsOsXtmo"
      },
      "outputs": [],
      "source": [
        "def get_proportional_label_sample(arr: np.array, label, n_samples_to_send):\n",
        "    \"\"\"\n",
        "    Returns a proportional (uniform) sample of arr with labels equal to `label`,\n",
        "    given the total size of the sample `n_samples_to_send`.\n",
        "    \"\"\"\n",
        "    label_samples = np.where(arr == label)[0]\n",
        "    n_label_samples = len(label_samples)\n",
        "\n",
        "    n_label_samples_to_send = int(n_samples_to_send * n_label_samples / N_SAMPLES)\n",
        "\n",
        "    np.random.shuffle(label_samples)\n",
        "    label_samples_to_send = label_samples[:n_label_samples_to_send]\n",
        "    return label_samples_to_send\n",
        "\n",
        "\n",
        "def get_server_sample_indices(n_samples_to_send):\n",
        "    \"\"\"\n",
        "    Returns n_samples_to_send indices that are sampled uniformly.\n",
        "    Used for sampling at the server node.\n",
        "    \"\"\"\n",
        "    Y_np = np.array(Y)\n",
        "    pos_samples_to_send = get_proportional_label_sample(Y_np, 1, n_samples_to_send)\n",
        "    neg_samples_to_send = get_proportional_label_sample(Y_np, -1, n_samples_to_send)\n",
        "\n",
        "    samples_to_send = np.concatenate([pos_samples_to_send, neg_samples_to_send])\n",
        "    return samples_to_send"
      ]
    },
    {
      "cell_type": "code",
      "execution_count": 40,
      "metadata": {
        "id": "D4rfB8IJXtmp"
      },
      "outputs": [],
      "source": [
        "def get_devices_sample_indices():\n",
        "    \"\"\"\n",
        "    Shuffles the data and creates `N_DEVICES` equal subsets.\n",
        "    \"\"\"\n",
        "    indices = np.arange(len(Z))\n",
        "    np.random.shuffle(indices)\n",
        "\n",
        "    return np.array_split(indices, N_DEVICES)"
      ]
    },
    {
      "cell_type": "code",
      "execution_count": 41,
      "metadata": {
        "id": "Y5Yk5lk1Xtmp"
      },
      "outputs": [],
      "source": [
        "SERVER_INDICES = get_server_sample_indices(N_SAMPLES_SERVER)\n",
        "DEVICES_INDICES = get_devices_sample_indices()"
      ]
    },
    {
      "cell_type": "markdown",
      "metadata": {
        "id": "PTRQo639C1m4"
      },
      "source": [
        "# SPAG Algorithm"
      ]
    },
    {
      "cell_type": "code",
      "execution_count": 42,
      "metadata": {
        "id": "cGtSftTNXtmp"
      },
      "outputs": [],
      "source": [
        "def sample_loss(x, y, z, lambd):\n",
        "    exp = np.exp(\n",
        "        -y * (x @ z)\n",
        "    )\n",
        "    log = float(np.log(1 + exp))\n",
        "    sample_loss = log + lambd *  np.linalg.norm(x) ** 2 / 2\n",
        "    return sample_loss\n",
        "\n",
        "\n",
        "def sample_grad(x, y, z, lambd):\n",
        "    exp = np.exp(\n",
        "        -1 * y * (x @ z)\n",
        "    )\n",
        "    log_der = float(exp / (1 + exp))\n",
        "    return lambd * x - log_der * y * z"
      ]
    },
    {
      "cell_type": "code",
      "execution_count": 43,
      "metadata": {
        "id": "XFg-NJjfXtmp"
      },
      "outputs": [],
      "source": [
        "def batch_loss(x, indices, lambd):\n",
        "    \"\"\"\n",
        "    Computes the loss function value for a batch.\n",
        "    The batch contains data samples under `indices`.\n",
        "    If no (None) indices provided, the total dataset loss is computed.\n",
        "    \"\"\"\n",
        "    sum = 0\n",
        "\n",
        "    if indices is not None:\n",
        "        Z_ = np.array(Z)[indices]\n",
        "        Y_ = np.array(Y)[indices]\n",
        "    else:\n",
        "        Z_, Y_ = Z, Y\n",
        "\n",
        "    for z, y in zip(Z_, Y_):\n",
        "        sample_loss_val = sample_loss(x, y, z, lambd)\n",
        "        sum += sample_loss_val\n",
        "\n",
        "    batch_loss = sum / len(Z_)\n",
        "\n",
        "    return batch_loss\n",
        "\n",
        "\n",
        "def batch_grad(x, indices, lambd):\n",
        "    \"\"\"\n",
        "    Computes the gradient for a batch.\n",
        "    The batch contains data samples under `indices`.\n",
        "    If no (None) indices provided, the total dataset gradient is computed.\n",
        "    \"\"\"\n",
        "    grad_f = np.zeros(N_FEATURES)\n",
        "\n",
        "    if indices is not None:\n",
        "        Z_ = np.array(Z)[indices]\n",
        "        Y_ = np.array(Y)[indices]\n",
        "    else:\n",
        "        Z_, Y_ = Z, Y\n",
        "\n",
        "    for z, y in zip(Z_, Y_):\n",
        "        one_point_grad_loss = sample_grad(x, y, z, lambd)\n",
        "        grad_f += one_point_grad_loss\n",
        "\n",
        "    batch_grad = grad_f / len(Z_)\n",
        "\n",
        "    return batch_grad"
      ]
    },
    {
      "cell_type": "code",
      "execution_count": 44,
      "metadata": {
        "id": "xFxUjSJTXtmq"
      },
      "outputs": [],
      "source": [
        "def phi_grad(x, lambd):\n",
        "    f = batch_loss(x, SERVER_INDICES, lambd)\n",
        "    grad_f = batch_grad(x, SERVER_INDICES, lambd)\n",
        "\n",
        "    phi = f + MU * (np.linalg.norm(x)) ** 2 / 2\n",
        "    grad_phi = grad_f + MU * x\n",
        "\n",
        "    return phi, grad_phi"
      ]
    },
    {
      "cell_type": "code",
      "execution_count": 45,
      "metadata": {
        "id": "zE9bPBxCXtmq"
      },
      "outputs": [],
      "source": [
        "def bregman_difference(x, phi_x, y, phi_y, grad_phi_y):\n",
        "    return phi_x - phi_y - grad_phi_y @ (x - y)\n",
        "\n",
        "\n",
        "def V_grad(x, grad_F, eta, beta, v, y, lambd):\n",
        "    phi_x, grad_phi_x = phi_grad(x, lambd)\n",
        "    phi_y, grad_phi_y = phi_grad(y, lambd)\n",
        "    phi_v, grad_phi_v = phi_grad(v, lambd)\n",
        "\n",
        "    bregman_xv = bregman_difference(x, phi_x, v, phi_v, grad_phi_v)\n",
        "    bregman_xy = bregman_difference(x, phi_x, y, phi_y, grad_phi_y)\n",
        "\n",
        "    V = eta * grad_F @ x + (1 - beta) * bregman_xv + beta * bregman_xy\n",
        "\n",
        "    grad_V = eta * grad_F + grad_phi_x - beta * grad_phi_y - (1 - beta) * grad_phi_v\n",
        "\n",
        "    return V, grad_V"
      ]
    },
    {
      "cell_type": "code",
      "execution_count": 46,
      "metadata": {
        "id": "3G1rqNqDC1m4"
      },
      "outputs": [],
      "source": [
        "def compute_condition(x, y, v, v_new, lambd, alpha, beta, G):\n",
        "    phi_x, grad_phi_x = phi_grad(x, lambd)\n",
        "    phi_y, grad_phi_y = phi_grad(y, lambd)\n",
        "    phi_v, grad_phi_v = phi_grad(v, lambd)\n",
        "    phi_v_new, grad_phi_v_new = phi_grad(v_new, lambd)\n",
        "\n",
        "    bregman_xy = bregman_difference(x, phi_x, y, phi_y, grad_phi_y)\n",
        "    bregman_vvnew = bregman_difference(v_new, phi_v_new, v, phi_v, grad_phi_v)\n",
        "    bregman_vynew = bregman_difference(v_new, phi_v_new, y, phi_y, grad_phi_y)\n",
        "\n",
        "    return bregman_xy <= alpha ** 2 * G * ((1 - beta) * bregman_vvnew + beta * bregman_vynew)\n",
        "\n",
        "\n",
        "def SPAG(init_point, L, sigma, n_iters):\n",
        "    pool = multiprocessing.Pool(processes = N_DEVICES)\n",
        "\n",
        "    x = np.empty([n_iters + 1, N_FEATURES])\n",
        "    x[0] = init_point\n",
        "    v = x[0]\n",
        "    A, B, G = 0, 1, 1\n",
        "\n",
        "    for t in range(n_iters):\n",
        "        G = max(1, G / 2) / 2\n",
        "        condition = False\n",
        "        n_repetitions = 0\n",
        "\n",
        "        while not condition:\n",
        "            G = 2 * G\n",
        "\n",
        "            a_quad_eq = sigma - L * G\n",
        "            b_quad_eq = sigma * A + B\n",
        "            c_quad_eq = A * B\n",
        "            a = max(np.roots([a_quad_eq, b_quad_eq, c_quad_eq]))\n",
        "\n",
        "            A = A + a\n",
        "            B = B + a * sigma\n",
        "\n",
        "            \"\"\"\n",
        "            alpha, beta, eta are scalars used in the\n",
        "            later updates for the three vectors y[t], v[t+1] and x[t+1]\n",
        "            \"\"\"\n",
        "            alpha   = a / A\n",
        "            beta    = a / B * sigma\n",
        "            eta     = a / B\n",
        "\n",
        "            y = (1 / (1 - alpha * beta)) * ((1 - alpha) * x[t] + alpha * (1 - beta) * v)\n",
        "\n",
        "            # compute grad_F(y) - requires communication\n",
        "            args = [(y, DEVICES_INDICES[n], LAMBDA) for n in range(N_DEVICES)]\n",
        "            grads = pool.starmap_async(batch_grad, args).get()\n",
        "            grad_Fy = sum(grads) / N_DEVICES\n",
        "\n",
        "            # minimize V_t(x)\n",
        "            args = [grad_Fy, eta, beta, v, y, LAMBDA]\n",
        "            v_new, _, _ = fmin_l_bfgs_b(V_grad, x0=v, args=args, maxiter=20)\n",
        "            x[t+1] = (1 - alpha) * x[t] + alpha * v_new\n",
        "\n",
        "            # compute the condition for iteration finish\n",
        "            condition = compute_condition(x[t+1], y, v, v_new, LAMBDA, alpha, beta, G)\n",
        "            n_repetitions += 1\n",
        "\n",
        "        print(f'Iter {t}: {n_repetitions} repetitions')\n",
        "        v = v_new\n",
        "\n",
        "    return x"
      ]
    },
    {
      "cell_type": "markdown",
      "metadata": {
        "id": "6-4YnZV8Xtmr"
      },
      "source": [
        "# Nesterov Accelerated Gradient Method"
      ]
    },
    {
      "cell_type": "code",
      "execution_count": 61,
      "metadata": {
        "id": "n7OzMMvbXtmr"
      },
      "outputs": [],
      "source": [
        "def AGD(f, grad_f, step_size, init_x=np.zeros(N_FEATURES), n_iterations=100):\n",
        "    x = init_x\n",
        "    lambda_prev = 0\n",
        "    lambda_curr = 1\n",
        "    gamma = 0.9 # momentum term\n",
        "    y_prev = x\n",
        "    alpha = step_size\n",
        "\n",
        "    gradient = grad_f(x, None, LAMBDA)\n",
        "\n",
        "    xs, ys = [], []\n",
        "\n",
        "    for i in tqdm(range(n_iterations+1)):\n",
        "        y_curr = x - alpha * gradient\n",
        "        x = (1 - gamma) * y_curr + gamma * y_prev\n",
        "        y_prev = y_curr\n",
        "\n",
        "        lambda_tmp = lambda_curr\n",
        "        lambda_curr = (1 + math.sqrt(1 + 4 * lambda_prev * lambda_prev)) / 2\n",
        "        lambda_prev = lambda_tmp\n",
        "\n",
        "        gamma = (1 - lambda_prev) / lambda_curr\n",
        "\n",
        "        gradient = grad_f(x, None, LAMBDA)\n",
        "        xs.append(x)\n",
        "\n",
        "        loss = f(x, None, LAMBDA)\n",
        "        ys.append(loss)\n",
        "\n",
        "    return xs, ys"
      ]
    },
    {
      "cell_type": "markdown",
      "metadata": {
        "id": "ixPpFRQXXtmr"
      },
      "source": [
        "# Searching for Hyperparameters"
      ]
    },
    {
      "cell_type": "code",
      "execution_count": 48,
      "metadata": {
        "colab": {
          "base_uri": "https://localhost:8080/"
        },
        "id": "MpwatBh4utfW",
        "outputId": "64edf031-2eb8-4a3b-c7e2-26eca9d98b69"
      },
      "outputs": [
        {
          "data": {
            "text/plain": [
              "True"
            ]
          },
          "execution_count": 48,
          "metadata": {},
          "output_type": "execute_result"
        }
      ],
      "source": [
        "def batch_loss_grad(x, indices, lambd):\n",
        "    return batch_loss(x, indices, lambd), batch_grad(x, indices, lambd)\n",
        "\n",
        "LAMBDA = 1e-7\n",
        "\n",
        "# get initial point\n",
        "x0, _, _ = fmin_l_bfgs_b(\n",
        "    batch_loss_grad,\n",
        "    x0 = np.zeros(N_FEATURES),\n",
        "    args = [SERVER_INDICES, LAMBDA],\n",
        "    maxiter = 20\n",
        ")\n",
        "\n",
        "len(x0) == N_FEATURES"
      ]
    },
    {
      "cell_type": "code",
      "execution_count": 49,
      "metadata": {
        "id": "Y66ZqSaAXtms"
      },
      "outputs": [],
      "source": [
        "L_F_phi = 1\n",
        "\n",
        "mus = [1e-3, 1e-5, 1e-7]\n",
        "lambdas = [1e-3, 1e-5, 1e-7]\n",
        "server_sample_fractions = [0.05, 0.1, 0.2]"
      ]
    },
    {
      "cell_type": "code",
      "execution_count": null,
      "metadata": {
        "id": "N10-fTyWWQTf"
      },
      "outputs": [],
      "source": [
        "best_mu, best_lambda, best_fraction = None, None, None\n",
        "best_loss = np.inf\n",
        "\n",
        "for mu in mus:\n",
        "    for lambd in lambdas:\n",
        "        for fraction in server_sample_fractions:\n",
        "            n_samples_server = N_SAMPLES * fraction\n",
        "            sigma_F_phi = lambd / (lambd + 2 * mu)\n",
        "            SERVER_INDICES = get_server_sample_indices(n_samples_server)\n",
        "            xs = SPAG(x0, L_F_phi, sigma_F_phi, N_ITERS)\n",
        "\n",
        "            pool = multiprocessing.Pool(processes = N_DEVICES)\n",
        "            for item in tqdm(xs):\n",
        "                args = [(item, DEVICES_INDICES[n], LAMBDA) for n in range(N_DEVICES)]\n",
        "                losses = pool.starmap_async(batch_loss, args).get()\n",
        "                loss_val = sum(losses) / N_DEVICES\n",
        "\n",
        "            if loss_val < best_loss:\n",
        "                best_loss = loss_val\n",
        "                best_mu, best_lambda, best_fraction = mu, lambd, fraction"
      ]
    },
    {
      "cell_type": "markdown",
      "metadata": {
        "id": "TZQd5mbUSVGO"
      },
      "source": [
        "# Running the Algorithms\n",
        "\n",
        "### SPAG"
      ]
    },
    {
      "cell_type": "code",
      "execution_count": 50,
      "metadata": {
        "id": "WkrKUoRkurgN"
      },
      "outputs": [],
      "source": [
        "MU = 1e-3\n",
        "LAMBDA = 1e-7\n",
        "sigma_F_phi = LAMBDA / (LAMBDA + 2 * MU)"
      ]
    },
    {
      "cell_type": "code",
      "execution_count": 51,
      "metadata": {
        "colab": {
          "base_uri": "https://localhost:8080/"
        },
        "id": "6NIVxYArSRwV",
        "outputId": "25b47adc-ffcd-4dda-b211-15d019dbdd5c"
      },
      "outputs": [
        {
          "name": "stdout",
          "output_type": "stream",
          "text": [
            "Iter 0: 1 repetitions\n",
            "Iter 1: 2 repetitions\n",
            "Iter 2: 1 repetitions\n",
            "Iter 3: 1 repetitions\n",
            "Iter 4: 1 repetitions\n",
            "Iter 5: 1 repetitions\n",
            "Iter 6: 1 repetitions\n",
            "Iter 7: 1 repetitions\n",
            "Iter 8: 1 repetitions\n",
            "Iter 9: 1 repetitions\n",
            "Iter 10: 1 repetitions\n",
            "Iter 11: 1 repetitions\n",
            "Iter 12: 1 repetitions\n",
            "Iter 13: 1 repetitions\n",
            "Iter 14: 1 repetitions\n",
            "Iter 15: 1 repetitions\n",
            "Iter 16: 1 repetitions\n",
            "Iter 17: 1 repetitions\n",
            "Iter 18: 1 repetitions\n",
            "Iter 19: 1 repetitions\n"
          ]
        }
      ],
      "source": [
        "xs_spag = SPAG(x0, L_F_phi, sigma_F_phi, N_ITERS)"
      ]
    },
    {
      "cell_type": "code",
      "execution_count": 52,
      "metadata": {
        "colab": {
          "base_uri": "https://localhost:8080/"
        },
        "id": "tSCCxO-5Xtmt",
        "outputId": "1d393a24-09cb-48ee-b908-c3c18883f7b3"
      },
      "outputs": [
        {
          "name": "stderr",
          "output_type": "stream",
          "text": [
            "100%|██████████| 21/21 [01:29<00:00,  4.26s/it]\n"
          ]
        }
      ],
      "source": [
        "ys_spag = []\n",
        "pool = multiprocessing.Pool(processes = N_DEVICES)\n",
        "for item in tqdm(xs_spag):\n",
        "    args = [(item, DEVICES_INDICES[n], LAMBDA) for n in range(N_DEVICES)]\n",
        "    losses = pool.starmap_async(batch_loss, args).get()\n",
        "    loss_val = sum(losses) / N_DEVICES\n",
        "    ys_spag.append(loss_val)"
      ]
    },
    {
      "cell_type": "markdown",
      "metadata": {
        "id": "xsfslJqWXtmt"
      },
      "source": [
        "### Accelerated Gradient Descent"
      ]
    },
    {
      "cell_type": "code",
      "execution_count": 62,
      "metadata": {
        "colab": {
          "base_uri": "https://localhost:8080/"
        },
        "id": "6ME792gHbieN",
        "outputId": "9e9a45b2-e590-47ee-9978-a1ed433e5317"
      },
      "outputs": [
        {
          "name": "stderr",
          "output_type": "stream",
          "text": [
            "100%|██████████| 21/21 [00:35<00:00,  1.71s/it]\n"
          ]
        }
      ],
      "source": [
        "xs_agd, ys_agd = AGD(batch_loss, batch_grad, init_x=x0, step_size=10, n_iterations=N_ITERS)"
      ]
    },
    {
      "cell_type": "markdown",
      "metadata": {
        "id": "FLQtvm-_OYPo"
      },
      "source": [
        "# Convergence Graphs"
      ]
    },
    {
      "cell_type": "code",
      "execution_count": 65,
      "metadata": {
        "colab": {
          "base_uri": "https://localhost:8080/",
          "height": 449
        },
        "id": "4LSh8H5nOX2g",
        "outputId": "93fc6206-79e4-41c7-8aee-c8dcf6150aed"
      },
      "outputs": [
        {
          "data": {
            "image/png": "[encoded data removed]",
            "text/plain": [
              "<Figure size 640x480 with 1 Axes>"
            ]
          },
          "metadata": {},
          "output_type": "display_data"
        }
      ],
      "source": [
        "x = range(N_ITERS + 1)\n",
        "\n",
        "plt.plot(x, ys_spag, '-o', color='blue', label='SPAG')\n",
        "plt.plot(x, ys_agd, '-o', color='red', label='AGD')\n",
        "\n",
        "plt.xlabel(f'# of iterations')\n",
        "plt.ylabel(f'Loss')\n",
        "plt.legend()\n",
        "plt.grid()\n",
        "plt.show()"
      ]
    },
    {
      "cell_type": "code",
      "execution_count": null,
      "metadata": {
        "id": "EUaDaJ4KtgwI"
      },
      "outputs": [],
      "source": []
    }
  ],
  "metadata": {
    "colab": {
      "provenance": []
    },
    "kernelspec": {
      "display_name": "Python 3",
      "name": "python3"
    },
    "language_info": {
      "codemirror_mode": {
        "name": "ipython",
        "version": 3
      },
      "file_extension": ".py",
      "mimetype": "text/x-python",
      "name": "python",
      "nbconvert_exporter": "python",
      "pygments_lexer": "ipython3",
      "version": "3.9.18"
    }
  },
  "nbformat": 4,
  "nbformat_minor": 0
}
